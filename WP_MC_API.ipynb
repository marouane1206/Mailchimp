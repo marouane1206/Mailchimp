{
 "cells": [
  {
   "cell_type": "code",
   "execution_count": 44,
   "id": "3ecc193d-ca90-473f-ad98-94cf8571d4d1",
   "metadata": {},
   "outputs": [],
   "source": [
    "import mysql.connector\n",
    "import pandas as pd\n",
    "import pandas.api.types as pdtypes\n",
    "import os"
   ]
  },
  {
   "cell_type": "markdown",
   "id": "e1b29e30-a036-46e0-a31d-ddbd00f44e8b",
   "metadata": {},
   "source": [
    "# WP Database credentials"
   ]
  },
  {
   "cell_type": "code",
   "execution_count": 45,
   "id": "50cbb75f-baed-4e22-853c-d2d5b21d1aa7",
   "metadata": {},
   "outputs": [],
   "source": [
    "wp_db = \"linter_wp\"\n",
    "username = \"root\"\n",
    "password = \"*tH5WHzhH9.w\"\n",
    "host = \"localhost\""
   ]
  },
  {
   "cell_type": "markdown",
   "id": "3bc09029-cbab-4565-8243-c14a62721af2",
   "metadata": {},
   "source": [
    "# Create connection objects"
   ]
  },
  {
   "cell_type": "code",
   "execution_count": 46,
   "id": "4c967db1-8551-4075-bbe8-856d6602416b",
   "metadata": {},
   "outputs": [],
   "source": [
    "wp_connection = mysql.connector.connect(\n",
    "    database=wp_db, user=username, password=password, host=host\n",
    ")"
   ]
  },
  {
   "cell_type": "markdown",
   "id": "77a75220-8aea-4389-ad18-1feb7be0664e",
   "metadata": {},
   "source": [
    "# Create cursor objects to execute queries"
   ]
  },
  {
   "cell_type": "code",
   "execution_count": 47,
   "id": "e5a7404d-bee6-4b0d-b3d2-2f5110e0c35d",
   "metadata": {},
   "outputs": [],
   "source": [
    "wp_cursor = wp_connection.cursor()"
   ]
  },
  {
   "cell_type": "markdown",
   "id": "6a20fe23-f75d-4e44-9b4b-34da0b20cc51",
   "metadata": {},
   "source": [
    "# Function to convert table to dataframe"
   ]
  },
  {
   "cell_type": "code",
   "execution_count": 48,
   "id": "a99ac404-e65c-4c37-8a20-51a7a4674c66",
   "metadata": {},
   "outputs": [],
   "source": [
    "def get_table_data(cursor, table_name):\n",
    "  query = f\"SELECT * FROM {table_name}\"\n",
    "  cursor.execute(query)\n",
    "  data = cursor.fetchall()\n",
    "  column_names = [i[0] for i in cursor.description]  # Get column names\n",
    "  df = pd.DataFrame(data, columns=column_names)  # Create DataFrame\n",
    "  return df"
   ]
  },
  {
   "cell_type": "markdown",
   "id": "11a10a2d-90b2-4726-98a5-946b8bd217b5",
   "metadata": {},
   "source": [
    "# WP - Users Table"
   ]
  },
  {
   "cell_type": "code",
   "execution_count": 49,
   "id": "fb79c737-4849-4088-989c-af1a614b55c3",
   "metadata": {},
   "outputs": [
    {
     "name": "stdout",
     "output_type": "stream",
     "text": [
      "<class 'pandas.core.frame.DataFrame'>\n",
      "RangeIndex: 13781 entries, 0 to 13780\n",
      "Data columns (total 10 columns):\n",
      " #   Column               Non-Null Count  Dtype         \n",
      "---  ------               --------------  -----         \n",
      " 0   ID                   13781 non-null  int64         \n",
      " 1   user_login           13781 non-null  object        \n",
      " 2   user_pass            13781 non-null  object        \n",
      " 3   user_nicename        13781 non-null  object        \n",
      " 4   user_email           13781 non-null  object        \n",
      " 5   user_url             13781 non-null  object        \n",
      " 6   user_registered      13781 non-null  datetime64[ns]\n",
      " 7   user_activation_key  13781 non-null  object        \n",
      " 8   user_status          13781 non-null  int64         \n",
      " 9   display_name         13781 non-null  object        \n",
      "dtypes: datetime64[ns](1), int64(2), object(7)\n",
      "memory usage: 1.1+ MB\n"
     ]
    }
   ],
   "source": [
    "users_wp_df = get_table_data(wp_cursor,\"wp_users\") \n",
    "users_wp_df.info()"
   ]
  },
  {
   "cell_type": "markdown",
   "id": "ba838b8b-ff5b-4b53-bb5d-fd79f1e68cb2",
   "metadata": {},
   "source": [
    "# WP - Usermeta Table"
   ]
  },
  {
   "cell_type": "code",
   "execution_count": 50,
   "id": "1cd24a54-9dc9-4a7f-b758-f2407faddaf8",
   "metadata": {},
   "outputs": [
    {
     "name": "stdout",
     "output_type": "stream",
     "text": [
      "<class 'pandas.core.frame.DataFrame'>\n",
      "RangeIndex: 58063 entries, 0 to 58062\n",
      "Data columns (total 4 columns):\n",
      " #   Column      Non-Null Count  Dtype \n",
      "---  ------      --------------  ----- \n",
      " 0   umeta_id    58063 non-null  int64 \n",
      " 1   user_id     58063 non-null  int64 \n",
      " 2   meta_key    58063 non-null  object\n",
      " 3   meta_value  58048 non-null  object\n",
      "dtypes: int64(2), object(2)\n",
      "memory usage: 1.8+ MB\n"
     ]
    }
   ],
   "source": [
    "usermeta_wp_df = get_table_data(wp_cursor,\"wp_usermeta\")\n",
    "usermeta_wp_df.info()"
   ]
  },
  {
   "cell_type": "markdown",
   "id": "b3b8e279-328b-4b72-8eb6-ffb461426aac",
   "metadata": {},
   "source": [
    "# Merged Table"
   ]
  },
  {
   "cell_type": "code",
   "execution_count": 51,
   "id": "e432e4d7-d1d8-43c2-aa4f-5ef390a9e120",
   "metadata": {},
   "outputs": [
    {
     "name": "stdout",
     "output_type": "stream",
     "text": [
      "<class 'pandas.core.frame.DataFrame'>\n",
      "RangeIndex: 58063 entries, 0 to 58062\n",
      "Data columns (total 14 columns):\n",
      " #   Column               Non-Null Count  Dtype         \n",
      "---  ------               --------------  -----         \n",
      " 0   ID                   58063 non-null  int64         \n",
      " 1   user_login           58063 non-null  object        \n",
      " 2   user_pass            58063 non-null  object        \n",
      " 3   user_nicename        58063 non-null  object        \n",
      " 4   user_email           58063 non-null  object        \n",
      " 5   user_url             58063 non-null  object        \n",
      " 6   user_registered      58063 non-null  datetime64[ns]\n",
      " 7   user_activation_key  58063 non-null  object        \n",
      " 8   user_status          58063 non-null  int64         \n",
      " 9   display_name         58063 non-null  object        \n",
      " 10  umeta_id             58063 non-null  int64         \n",
      " 11  user_id              58063 non-null  int64         \n",
      " 12  meta_key             58063 non-null  object        \n",
      " 13  meta_value           58048 non-null  object        \n",
      "dtypes: datetime64[ns](1), int64(4), object(9)\n",
      "memory usage: 6.2+ MB\n"
     ]
    }
   ],
   "source": [
    "merged_users_df = users_wp_df.merge(usermeta_wp_df, left_on='ID', right_on='user_id', how='inner')\n",
    "merged_users_df.info()"
   ]
  },
  {
   "cell_type": "markdown",
   "id": "445186b3-0d8a-4eaa-b8c8-6b38d07bfcc5",
   "metadata": {},
   "source": [
    "## Meta_key list"
   ]
  },
  {
   "cell_type": "code",
   "execution_count": 52,
   "id": "f854bb19-6785-4e60-aa36-1a25ff0d64f1",
   "metadata": {},
   "outputs": [
    {
     "data": {
      "text/plain": [
       "array(['nickname', 'first_name', 'last_name', 'description',\n",
       "       'rich_editing', 'syntax_highlighting', 'comment_shortcuts',\n",
       "       'admin_color', 'use_ssl', 'show_admin_bar_front', 'locale',\n",
       "       'wp_capabilities', 'wp_user_level', 'dismissed_wp_pointers',\n",
       "       'show_welcome_panel', 'wp_user-settings', 'wp_user-settings-time',\n",
       "       'wp_dashboard_quick_press_last_post_id',\n",
       "       'community-events-location', 'closedpostboxes_dashboard',\n",
       "       'metaboxhidden_dashboard', 'session_tokens', 'online_status',\n",
       "       'elementor_introduction', 'elementor_admin_notices',\n",
       "       'elementor_preferences', 'wp_persisted_preferences',\n",
       "       'nav_menu_recently_edited', 'managenav-menuscolumnshidden',\n",
       "       'metaboxhidden_nav-menus', 'wp_elementor_connect_common_data',\n",
       "       'meta-box-order_dashboard', 'wpcf7_hide_welcome_panel_on',\n",
       "       'closedpostboxes_rtcl_cfg', 'metaboxhidden_rtcl_cfg',\n",
       "       'edit_page_per_page', '_rtcl_ads', 'thechamp_avatar',\n",
       "       'thechamp_large_avatar', 'thechamp_dontupdate_avatar',\n",
       "       'closedpostboxes_rtcl_pricing', 'metaboxhidden_rtcl_pricing',\n",
       "       '_billing_first_name', '_billing_last_name', '_billing_country',\n",
       "       '_billing_state', '_billing_email', '_billing_address_1',\n",
       "       '_billing_address_2', '_billing_city', '_billing_postcode',\n",
       "       '_billing_phone', 'wp_nav_menu_recently_edited',\n",
       "       'icl_admin_language_migrated_to_wp47', 'default_password_nag',\n",
       "       'closedpostboxes_rtcl_listing', 'metaboxhidden_rtcl_listing',\n",
       "       'meta-box-order_rtcl_listing', 'screen_layout_rtcl_listing',\n",
       "       'closedpostboxes_', 'metaboxhidden_',\n",
       "       'manageedit-rtcl_listingcolumnshidden', 'wp_language_pairs',\n",
       "       'wp_ate_activated', '_yoast_wpseo_profile_updated',\n",
       "       'icl_admin_language', 'WPML_TM_Wizard_Only_I',\n",
       "       'wpml_enabled_for_translation_via_ate',\n",
       "       '_e_notifications_dismissed', 'wpml-browser-redirect-dialog',\n",
       "       '_billing_company', '_yoast_wpseo_introductions',\n",
       "       '_yoast_alerts_dismissed', 'elementor_dismissed_editor_notices',\n",
       "       'wp_googlesitekit_site_verification_file',\n",
       "       'wp_googlesitekit_access_token',\n",
       "       'wp_googlesitekit_access_token_expires_in',\n",
       "       'wp_googlesitekit_access_token_created_at',\n",
       "       'wp_googlesitekit_refresh_token', 'wp_googlesitekit_auth_scopes',\n",
       "       'wp_googlesitekit_additional_auth_scopes',\n",
       "       'wp_googlesitekit_profile',\n",
       "       'wp_googlesitekitpersistent_initial_version',\n",
       "       'wp_googlesitekit_site_verified_meta',\n",
       "       'wp_googlesitekit_survey_timeouts', '_rtcl_phone',\n",
       "       'wp_yoast_notifications', 'icl_show_hidden_languages',\n",
       "       'icl_admin_language_for_edit',\n",
       "       'wpml_block_new_email_notifications', '_rtcl_whatsapp_number',\n",
       "       '_rtcl_pp_id', 'wp_elementor_enable_ai', 'thechamp_current_id',\n",
       "       'thechamp_social_id', 'thechamp_provider', 'rtcl_verification_key',\n",
       "       'rtcl_verify_link_attempts', '_rtcl_website', '_rtcl_zipcode',\n",
       "       '_rtcl_address', '_rtcl_geo_address', '_rtcl_latitude',\n",
       "       '_rtcl_longitude'], dtype=object)"
      ]
     },
     "execution_count": 52,
     "metadata": {},
     "output_type": "execute_result"
    }
   ],
   "source": [
    "# Get a list of unique values from the 'meta_key' column\n",
    "unique_meta_keys = merged_users_df['meta_key'].unique()\n",
    "unique_meta_keys"
   ]
  },
  {
   "cell_type": "markdown",
   "id": "48639558-600d-4264-b7fb-b92aec4891b6",
   "metadata": {},
   "source": [
    "# Setup the mailchimp dataframe"
   ]
  },
  {
   "cell_type": "code",
   "execution_count": 53,
   "id": "b88048db-fba4-4d60-a4a2-d43f469d830e",
   "metadata": {},
   "outputs": [
    {
     "name": "stdout",
     "output_type": "stream",
     "text": [
      "<class 'pandas.core.frame.DataFrame'>\n",
      "RangeIndex: 13781 entries, 0 to 13780\n",
      "Data columns (total 1 columns):\n",
      " #   Column         Non-Null Count  Dtype \n",
      "---  ------         --------------  ----- \n",
      " 0   email_address  13781 non-null  object\n",
      "dtypes: object(1)\n",
      "memory usage: 107.8+ KB\n"
     ]
    }
   ],
   "source": [
    "# Create the mailchimp dataframe\n",
    "mailchimp_df = pd.DataFrame({'email_address': users_wp_df['user_email']})\n",
    "mailchimp_df.info()"
   ]
  },
  {
   "cell_type": "markdown",
   "id": "8f07e599-a114-4f0e-8582-737d0f538777",
   "metadata": {},
   "source": [
    "## create the detailed dataframes"
   ]
  },
  {
   "cell_type": "code",
   "execution_count": 54,
   "id": "b6fd6b09-8fca-41ab-a5a7-c73cabcc6e99",
   "metadata": {},
   "outputs": [
    {
     "name": "stdout",
     "output_type": "stream",
     "text": [
      "<class 'pandas.core.frame.DataFrame'>\n",
      "RangeIndex: 13781 entries, 0 to 13780\n",
      "Data columns (total 8 columns):\n",
      " #   Column         Non-Null Count  Dtype \n",
      "---  ------         --------------  ----- \n",
      " 0   email_address  13781 non-null  object\n",
      " 1   FNAME          1017 non-null   object\n",
      " 2   LNAME          1017 non-null   object\n",
      " 3   merge_fields   13781 non-null  object\n",
      " 4   Address        0 non-null      object\n",
      " 5   Phone Number   13757 non-null  object\n",
      " 6   Tags           13781 non-null  object\n",
      " 7   status         13781 non-null  object\n",
      "dtypes: object(8)\n",
      "memory usage: 861.4+ KB\n"
     ]
    }
   ],
   "source": [
    "# Filter for rows where 'meta_key' is 'first_name'\n",
    "first_name_df = merged_users_df[merged_users_df['meta_key'] == 'first_name']\n",
    "merged_tmp_df = pd.merge(users_wp_df, first_name_df, left_on='ID', right_on='user_id', how='inner')\n",
    "mailchimp_df['FNAME'] = merged_tmp_df['meta_value']\n",
    "\n",
    "# Filter for rows where 'meta_key' is 'last_name'\n",
    "last_name_df = merged_users_df[merged_users_df['meta_key'] == 'last_name']\n",
    "merged_tmp_df = pd.merge(users_wp_df, last_name_df, left_on='ID', right_on='user_id', how='inner')\n",
    "mailchimp_df['LNAME'] = merged_tmp_df['meta_value']\n",
    "\n",
    "mailchimp_df['merge_fields'] = mailchimp_df.apply(lambda row: \n",
    "                                                 {'FNAME': row['FNAME'], 'LNAME': row['LNAME']}, \n",
    "                                                 axis=1)\n",
    "\n",
    "# Filter for rows where 'meta_key' is '_rtcl_geo_address'\n",
    "address_df = merged_users_df[merged_users_df['meta_key'] == '_rtcl_latitude']\n",
    "merged_tmp_df = pd.merge(users_wp_df, address_df, left_on='ID', right_on='user_id', how='inner')\n",
    "mailchimp_df['Address'] = merged_tmp_df['meta_value']\n",
    "\n",
    "# Filter for rows where 'meta_key' is '_rtcl_phone'\n",
    "phone_df = merged_users_df[merged_users_df['meta_key'] == '_rtcl_phone']\n",
    "merged_tmp_df = pd.merge(users_wp_df, phone_df, left_on='ID', right_on='user_id', how='inner')\n",
    "mailchimp_df['Phone Number'] = merged_tmp_df['meta_value']\n",
    "\n",
    "mailchimp_df['Tags'] = 'Customer'\n",
    "mailchimp_df['status'] = 'subscribed'\n",
    "\n",
    "mailchimp_df.info()"
   ]
  },
  {
   "cell_type": "markdown",
   "id": "a7f8b6bd-3c00-40d8-b2a6-6c67bb09d07a",
   "metadata": {},
   "source": [
    "# Export the dataframe to Mailchimp"
   ]
  },
  {
   "cell_type": "code",
   "execution_count": 55,
   "id": "f2763590-ab54-4d74-8a08-d936df51a103",
   "metadata": {},
   "outputs": [
    {
     "name": "stdout",
     "output_type": "stream",
     "text": [
      "WordPress users exported to ./Data/Contacts.csv\n"
     ]
    }
   ],
   "source": [
    "# Export the DataFrame to a CSV file\n",
    "csv_file_path = \"./Data/Contacts.csv\"\n",
    "mailchimp_df.to_csv(csv_file_path, index=False)\n",
    "\n",
    "print(f\"WordPress users exported to {csv_file_path}\")"
   ]
  },
  {
   "cell_type": "code",
   "execution_count": 56,
   "id": "98ccf0f4-e5ad-4ec3-b109-1696a7629fe1",
   "metadata": {},
   "outputs": [
    {
     "name": "stdout",
     "output_type": "stream",
     "text": [
      "WordPress users exported to ./Data/Contacts.json\n"
     ]
    }
   ],
   "source": [
    "# Save the DataFrame to a JSON file\n",
    "json_file_path = './Data/Contacts.json'\n",
    "mailchimp_df.to_json(json_file_path, orient='index', indent=4) \n",
    "print(f\"WordPress users exported to {json_file_path}\")"
   ]
  }
 ],
 "metadata": {
  "kernelspec": {
   "display_name": "data-analysis-env",
   "language": "python",
   "name": "python3"
  },
  "language_info": {
   "codemirror_mode": {
    "name": "ipython",
    "version": 3
   },
   "file_extension": ".py",
   "mimetype": "text/x-python",
   "name": "python",
   "nbconvert_exporter": "python",
   "pygments_lexer": "ipython3",
   "version": "3.12.1"
  }
 },
 "nbformat": 4,
 "nbformat_minor": 5
}
